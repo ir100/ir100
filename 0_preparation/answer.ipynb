{
 "cells": [
  {
   "cell_type": "markdown",
   "metadata": {},
   "source": [
    "# 0. 準備\n",
    "\n",
    "## 0. 準備の準備\n",
    "\n",
    "本ハンズオンで利用するデータセットの一部はGit LFSを介して提供されている。\n",
    "Git LFSをインストールせよ。\n"
   ]
  },
  {
   "cell_type": "markdown",
   "metadata": {},
   "source": [
    "### 回答\n",
    "\n",
    "Dev Containerを利用し、Dockerのイメージをビルドするタイミングで`sudo apt install git-lfs -y`コマンドでインストールするようにした。\n",
    "参考：[.devcontainer/postCreateCommand.sh](../.devcontainer/postCreateCommand.sh)\n"
   ]
  },
  {
   "cell_type": "markdown",
   "metadata": {},
   "source": [
    "## 1. データセットの入手\n",
    "\n",
    "本ハンズオンではAmazonのShopping Queries Datasetを利用する。\n",
    "以下から `git clone` せよ。\n",
    "\n",
    "https://github.com/amazon-science/esci-data\n"
   ]
  },
  {
   "cell_type": "markdown",
   "metadata": {},
   "source": [
    "### 回答\n",
    "\n",
    "リポジトリ直下（ir100ディレクトリ）で以下のコマンドを実行。DockerのVolumeとしてマウントしてあるので、ホスト側のディレクトリにはデータは存在しない。\n",
    "\n",
    "```\n",
    "git clone https://github.com/amazon-science/esci-data\n",
    "```"
   ]
  },
  {
   "cell_type": "markdown",
   "metadata": {},
   "source": [
    "## 2. ライブラリの入手\n",
    "\n",
    "このデータセットの一部はParquet形式である。\n",
    "Parquet形式のファイルを読み込むためのライブラリを入手せよ。\n"
   ]
  },
  {
   "cell_type": "markdown",
   "metadata": {},
   "source": [
    "### 回答\n",
    "\n",
    "Poetryをパッケージマネージャーとして利用するので、以下のコマンドで追加。\n"
   ]
  },
  {
   "cell_type": "code",
   "execution_count": 2,
   "metadata": {},
   "outputs": [
    {
     "name": "stdout",
     "output_type": "stream",
     "text": [
      "The following packages are already present in the pyproject.toml and will be skipped:\n",
      "\n",
      "  • \u001b[36mpandas\u001b[39m\n",
      "  • \u001b[36mdatasets\u001b[39m\n",
      "\n",
      "If you want to update it to the latest compatible version, you can use `poetry update package`.\n",
      "If you prefer to upgrade it to the latest available version, you can use `poetry add package@latest`.\n",
      "\n",
      "Nothing to add.\n"
     ]
    }
   ],
   "source": [
    "!poetry add pandas datasets"
   ]
  },
  {
   "cell_type": "markdown",
   "metadata": {},
   "source": [
    "## 3. 製品データの読み込み\n",
    "\n",
    "ライブラリの機能で製品データ（以下）をメモリに読み込め。\n",
    "\n",
    "```\n",
    "./esci-data/shopping_queries_dataset/shopping_queries_dataset_products.parquet\n",
    "```\n",
    "\n",
    "（想定実行時間：1分以内）\n",
    "\n"
   ]
  },
  {
   "cell_type": "markdown",
   "metadata": {},
   "source": [
    "### 回答\n"
   ]
  },
  {
   "cell_type": "code",
   "execution_count": 4,
   "metadata": {},
   "outputs": [
    {
     "name": "stdout",
     "output_type": "stream",
     "text": [
      "Start loading products...\n",
      "Loaded products.\n"
     ]
    }
   ],
   "source": [
    "\n",
    "import pandas as pd\n",
    "import pathlib\n",
    "\n",
    "esci_path = pathlib.Path(\"../esci-data/shopping_queries_dataset\")\n",
    "print(\"Start loading products...\")\n",
    "df_products = pd.read_parquet(esci_path.joinpath(\"shopping_queries_dataset_products.parquet\"))\n",
    "print(\"Loaded products.\")"
   ]
  },
  {
   "cell_type": "markdown",
   "metadata": {},
   "source": [
    "## 4. 製品データの確認\n",
    "\n",
    "製品を1つランダムに取り出し表示せよ。\n",
    "何度か実行せよ。\n"
   ]
  },
  {
   "cell_type": "markdown",
   "metadata": {},
   "source": [
    "### 回答\n",
    "\n"
   ]
  },
  {
   "cell_type": "code",
   "execution_count": 6,
   "metadata": {},
   "outputs": [
    {
     "data": {
      "text/html": [
       "<div>\n",
       "<style scoped>\n",
       "    .dataframe tbody tr th:only-of-type {\n",
       "        vertical-align: middle;\n",
       "    }\n",
       "\n",
       "    .dataframe tbody tr th {\n",
       "        vertical-align: top;\n",
       "    }\n",
       "\n",
       "    .dataframe thead th {\n",
       "        text-align: right;\n",
       "    }\n",
       "</style>\n",
       "<table border=\"1\" class=\"dataframe\">\n",
       "  <thead>\n",
       "    <tr style=\"text-align: right;\">\n",
       "      <th></th>\n",
       "      <th>product_id</th>\n",
       "      <th>product_title</th>\n",
       "      <th>product_description</th>\n",
       "      <th>product_bullet_point</th>\n",
       "      <th>product_brand</th>\n",
       "      <th>product_color</th>\n",
       "      <th>product_locale</th>\n",
       "    </tr>\n",
       "  </thead>\n",
       "  <tbody>\n",
       "    <tr>\n",
       "      <th>1231958</th>\n",
       "      <td>B082TWJPP2</td>\n",
       "      <td>Cable Management Box Hide Wires and Surge Prot...</td>\n",
       "      <td>None</td>\n",
       "      <td>➢ORGANIZE - Clutter free, keep cords neat, tid...</td>\n",
       "      <td>Recomfit</td>\n",
       "      <td>None</td>\n",
       "      <td>us</td>\n",
       "    </tr>\n",
       "  </tbody>\n",
       "</table>\n",
       "</div>"
      ],
      "text/plain": [
       "         product_id                                      product_title  \\\n",
       "1231958  B082TWJPP2  Cable Management Box Hide Wires and Surge Prot...   \n",
       "\n",
       "        product_description  \\\n",
       "1231958                None   \n",
       "\n",
       "                                      product_bullet_point product_brand  \\\n",
       "1231958  ➢ORGANIZE - Clutter free, keep cords neat, tid...      Recomfit   \n",
       "\n",
       "        product_color product_locale  \n",
       "1231958          None             us  "
      ]
     },
     "execution_count": 6,
     "metadata": {},
     "output_type": "execute_result"
    }
   ],
   "source": [
    "df_products.sample()"
   ]
  },
  {
   "cell_type": "code",
   "execution_count": 7,
   "metadata": {},
   "outputs": [
    {
     "data": {
      "text/html": [
       "<div>\n",
       "<style scoped>\n",
       "    .dataframe tbody tr th:only-of-type {\n",
       "        vertical-align: middle;\n",
       "    }\n",
       "\n",
       "    .dataframe tbody tr th {\n",
       "        vertical-align: top;\n",
       "    }\n",
       "\n",
       "    .dataframe thead th {\n",
       "        text-align: right;\n",
       "    }\n",
       "</style>\n",
       "<table border=\"1\" class=\"dataframe\">\n",
       "  <thead>\n",
       "    <tr style=\"text-align: right;\">\n",
       "      <th></th>\n",
       "      <th>product_id</th>\n",
       "      <th>product_title</th>\n",
       "      <th>product_description</th>\n",
       "      <th>product_bullet_point</th>\n",
       "      <th>product_brand</th>\n",
       "      <th>product_color</th>\n",
       "      <th>product_locale</th>\n",
       "    </tr>\n",
       "  </thead>\n",
       "  <tbody>\n",
       "    <tr>\n",
       "      <th>1263942</th>\n",
       "      <td>B07QWTTZ1K</td>\n",
       "      <td>Supertrip Snorkel Set Adults-Anti-Fog Film Scu...</td>\n",
       "      <td>&lt;p&gt;&lt;b&gt;SUPERTRIP&lt;/b&gt; was founded on the vision ...</td>\n",
       "      <td>🌊【NEWEST ANTI-FOG DESIGN】- Supertrip Snorkel S...</td>\n",
       "      <td>Supertrip</td>\n",
       "      <td>Pink</td>\n",
       "      <td>us</td>\n",
       "    </tr>\n",
       "  </tbody>\n",
       "</table>\n",
       "</div>"
      ],
      "text/plain": [
       "         product_id                                      product_title  \\\n",
       "1263942  B07QWTTZ1K  Supertrip Snorkel Set Adults-Anti-Fog Film Scu...   \n",
       "\n",
       "                                       product_description  \\\n",
       "1263942  <p><b>SUPERTRIP</b> was founded on the vision ...   \n",
       "\n",
       "                                      product_bullet_point product_brand  \\\n",
       "1263942  🌊【NEWEST ANTI-FOG DESIGN】- Supertrip Snorkel S...     Supertrip   \n",
       "\n",
       "        product_color product_locale  \n",
       "1263942          Pink             us  "
      ]
     },
     "execution_count": 7,
     "metadata": {},
     "output_type": "execute_result"
    }
   ],
   "source": [
    "\n",
    "df_products.sample()"
   ]
  },
  {
   "cell_type": "code",
   "execution_count": 8,
   "metadata": {},
   "outputs": [
    {
     "data": {
      "text/html": [
       "<div>\n",
       "<style scoped>\n",
       "    .dataframe tbody tr th:only-of-type {\n",
       "        vertical-align: middle;\n",
       "    }\n",
       "\n",
       "    .dataframe tbody tr th {\n",
       "        vertical-align: top;\n",
       "    }\n",
       "\n",
       "    .dataframe thead th {\n",
       "        text-align: right;\n",
       "    }\n",
       "</style>\n",
       "<table border=\"1\" class=\"dataframe\">\n",
       "  <thead>\n",
       "    <tr style=\"text-align: right;\">\n",
       "      <th></th>\n",
       "      <th>product_id</th>\n",
       "      <th>product_title</th>\n",
       "      <th>product_description</th>\n",
       "      <th>product_bullet_point</th>\n",
       "      <th>product_brand</th>\n",
       "      <th>product_color</th>\n",
       "      <th>product_locale</th>\n",
       "    </tr>\n",
       "  </thead>\n",
       "  <tbody>\n",
       "    <tr>\n",
       "      <th>1354417</th>\n",
       "      <td>B017C0H0XK</td>\n",
       "      <td>Franklin Brass Kinla Towel Bar, Rubbed Bronze ...</td>\n",
       "      <td>None</td>\n",
       "      <td>EXCLUSIVE - Kinla, a Franklin Brass collection...</td>\n",
       "      <td>Franklin Brass</td>\n",
       "      <td>Oil Rubbed Bronze</td>\n",
       "      <td>us</td>\n",
       "    </tr>\n",
       "  </tbody>\n",
       "</table>\n",
       "</div>"
      ],
      "text/plain": [
       "         product_id                                      product_title  \\\n",
       "1354417  B017C0H0XK  Franklin Brass Kinla Towel Bar, Rubbed Bronze ...   \n",
       "\n",
       "        product_description  \\\n",
       "1354417                None   \n",
       "\n",
       "                                      product_bullet_point   product_brand  \\\n",
       "1354417  EXCLUSIVE - Kinla, a Franklin Brass collection...  Franklin Brass   \n",
       "\n",
       "             product_color product_locale  \n",
       "1354417  Oil Rubbed Bronze             us  "
      ]
     },
     "execution_count": 8,
     "metadata": {},
     "output_type": "execute_result"
    }
   ],
   "source": [
    "\n",
    "df_products.sample()"
   ]
  },
  {
   "cell_type": "markdown",
   "metadata": {},
   "source": [
    "## 5. クエリデータの読み込み\n",
    "\n",
    "クエリデータ（以下）をメモリに読み込め。\n",
    "\n",
    "```\n",
    "./esci-data/shopping_queries_dataset/shopping_queries_dataset_examples.parquet\n",
    "```\n",
    "\n",
    "（想定実行時間：1分以内）\n",
    "\n"
   ]
  },
  {
   "cell_type": "markdown",
   "metadata": {},
   "source": [
    "### 回答\n",
    "\n",
    "\n"
   ]
  },
  {
   "cell_type": "code",
   "execution_count": 10,
   "metadata": {},
   "outputs": [
    {
     "name": "stdout",
     "output_type": "stream",
     "text": [
      "Start loading examples...\n",
      "Loaded examples.\n"
     ]
    }
   ],
   "source": [
    "print(\"Start loading examples...\")\n",
    "df_examples = pd.read_parquet(esci_path.joinpath(\"shopping_queries_dataset_examples.parquet\"))\n",
    "print(\"Loaded examples.\")"
   ]
  },
  {
   "cell_type": "markdown",
   "metadata": {},
   "source": [
    "## 6. クエリデータの確認\n",
    "\n",
    "クエリを1つランダムに取り出し表示せよ。\n",
    "何度か実行せよ。\n",
    "\n"
   ]
  },
  {
   "cell_type": "markdown",
   "metadata": {},
   "source": [
    "### 回答"
   ]
  },
  {
   "cell_type": "code",
   "execution_count": 11,
   "metadata": {},
   "outputs": [
    {
     "name": "stdout",
     "output_type": "stream",
     "text": [
      "         example_id                        query  query_id  product_id  \\\n",
      "1628343     1628343  ppg automotive paint colors     82967  B010GGGSRG   \n",
      "\n",
      "        product_locale esci_label  small_version  large_version  split  \n",
      "1628343             us          I              1              1  train  \n"
     ]
    }
   ],
   "source": [
    "df_examples.sample()"
   ]
  },
  {
   "cell_type": "code",
   "execution_count": 12,
   "metadata": {},
   "outputs": [
    {
     "name": "stdout",
     "output_type": "stream",
     "text": [
      "        example_id                     query  query_id  product_id  \\\n",
      "603303      603303  crash bandicoot ps1 game     29873  B000066BZ2   \n",
      "\n",
      "       product_locale esci_label  small_version  large_version  split  \n",
      "603303             us          E              1              1  train  \n"
     ]
    }
   ],
   "source": [
    "df_examples.sample()"
   ]
  },
  {
   "cell_type": "code",
   "execution_count": null,
   "metadata": {},
   "outputs": [],
   "source": [
    "df_examples.sample()"
   ]
  },
  {
   "cell_type": "markdown",
   "metadata": {},
   "source": [
    "## 7. フィルタリング\n",
    "\n",
    "題材の製品データ、クエリデータそれぞれ `product_locale` が `us` であるものを抽出せよ。\n",
    "\n",
    "これ以降、特に断りがなければ、以下の理由からこれらのサブセットを用いる。\n",
    "\n",
    "- 単語がスペース区切りで扱いやすいため。\n",
    "- `product_locale` 内では `product_id` がユニークで扱いやすいため。\n",
    "\n",
    "また、それぞれ**英語製品データ**、**英語クエリデータ**と呼ぶ。\n"
   ]
  },
  {
   "cell_type": "markdown",
   "metadata": {},
   "source": [
    "### 回答\n"
   ]
  },
  {
   "cell_type": "code",
   "execution_count": 13,
   "metadata": {},
   "outputs": [],
   "source": [
    "df_products_us = df_products[df_products[\"product_locale\"] == \"us\"]\n",
    "df_examples_us = df_examples[df_examples[\"product_locale\"] == \"us\"]"
   ]
  },
  {
   "cell_type": "markdown",
   "metadata": {},
   "source": [
    "## 8. 結合\n",
    "\n",
    "英語製品データと英語クエリデータを、`product_id` をキーとして結合せよ。\n",
    "これを**英語結合データ**と呼ぶ。\n",
    "\n",
    "また、英語結合データのエントリを1つランダムに取り出し表示せよ。\n",
    "何度か実行せよ。\n"
   ]
  },
  {
   "cell_type": "markdown",
   "metadata": {},
   "source": [
    "### 回答\n"
   ]
  },
  {
   "cell_type": "markdown",
   "metadata": {},
   "source": [
    "pd_examples_products_us = pd.merge(\n",
    "    df_examples_us,\n",
    "    df_products_us,\n",
    "    how='left',\n",
    "    left_on=['product_id'],\n",
    "    right_on=['product_id']\n",
    ")\n",
    "\n",
    "pd_examples_products_us.sample()\n"
   ]
  }
 ],
 "metadata": {
  "kernelspec": {
   "display_name": ".venv",
   "language": "python",
   "name": "python3"
  },
  "language_info": {
   "codemirror_mode": {
    "name": "ipython",
    "version": 3
   },
   "file_extension": ".py",
   "mimetype": "text/x-python",
   "name": "python",
   "nbconvert_exporter": "python",
   "pygments_lexer": "ipython3",
   "version": "3.11.4"
  },
  "orig_nbformat": 4
 },
 "nbformat": 4,
 "nbformat_minor": 2
}
