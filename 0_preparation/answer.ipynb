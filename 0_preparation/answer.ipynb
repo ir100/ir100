{
 "cells": [
  {
   "cell_type": "markdown",
   "metadata": {},
   "source": [
    "# 0. 準備\n",
    "\n",
    "## 0. 準備の準備\n",
    "\n",
    "本ハンズオンで利用するデータセットの一部はGit LFSを介して提供されている。\n",
    "Git LFSをインストールせよ。\n"
   ]
  },
  {
   "cell_type": "markdown",
   "metadata": {},
   "source": [
    "### 回答\n",
    "\n",
    "Dev Containerを利用し、Dockerのイメージをビルドするタイミングで`sudo apt install git-lfs -y`コマンドでインストールするようにした。\n",
    "参考：[.devcontainer/postCreateCommand.sh](../.devcontainer/postCreateCommand.sh)\n"
   ]
  },
  {
   "cell_type": "markdown",
   "metadata": {},
   "source": [
    "## 1. データセットの入手\n",
    "\n",
    "本ハンズオンではAmazonのShopping Queries Datasetを利用する。\n",
    "以下から `git clone` せよ。\n",
    "\n",
    "https://github.com/amazon-science/esci-data\n"
   ]
  },
  {
   "cell_type": "markdown",
   "metadata": {},
   "source": [
    "### 回答\n",
    "\n",
    "リポジトリ直下（ir100ディレクトリ）で以下のコマンドを実行。DockerのVolumeとしてマウントしてあるので、ホスト側のディレクトリにはデータは存在しない。\n"
   ]
  },
  {
   "cell_type": "code",
   "execution_count": null,
   "metadata": {},
   "outputs": [],
   "source": [
    "!git clone https://github.com/amazon-science/esci-data ../esci-data"
   ]
  },
  {
   "cell_type": "markdown",
   "metadata": {},
   "source": [
    "## 2. ライブラリの入手\n",
    "\n",
    "このデータセットの一部はParquet形式である。\n",
    "Parquet形式のファイルを読み込むためのライブラリを入手せよ。\n"
   ]
  },
  {
   "cell_type": "markdown",
   "metadata": {},
   "source": [
    "### 回答\n",
    "\n",
    "Poetryをパッケージマネージャーとして利用するので、以下のコマンドで追加。\n"
   ]
  },
  {
   "cell_type": "code",
   "execution_count": null,
   "metadata": {},
   "outputs": [],
   "source": [
    "!poetry add pandas datasets"
   ]
  },
  {
   "cell_type": "markdown",
   "metadata": {},
   "source": [
    "## 3. 製品データの読み込み\n",
    "\n",
    "ライブラリの機能で製品データ（以下）をメモリに読み込め。\n",
    "\n",
    "```\n",
    "./esci-data/shopping_queries_dataset/shopping_queries_dataset_products.parquet\n",
    "```\n",
    "\n",
    "（想定実行時間：1分以内）\n",
    "\n"
   ]
  },
  {
   "cell_type": "markdown",
   "metadata": {},
   "source": [
    "### 回答\n"
   ]
  },
  {
   "cell_type": "code",
   "execution_count": null,
   "metadata": {},
   "outputs": [],
   "source": [
    "\n",
    "import pandas as pd\n",
    "import pathlib\n",
    "\n",
    "esci_path = pathlib.Path(\"../esci-data/shopping_queries_dataset\")\n",
    "print(\"Start loading products...\")\n",
    "df_products = pd.read_parquet(esci_path.joinpath(\"shopping_queries_dataset_products.parquet\"))\n",
    "print(\"Loaded products.\")"
   ]
  },
  {
   "cell_type": "markdown",
   "metadata": {},
   "source": [
    "## 4. 製品データの確認\n",
    "\n",
    "製品を1つランダムに取り出し表示せよ。\n",
    "何度か実行せよ。\n"
   ]
  },
  {
   "cell_type": "markdown",
   "metadata": {},
   "source": [
    "### 回答\n",
    "\n"
   ]
  },
  {
   "cell_type": "code",
   "execution_count": null,
   "metadata": {},
   "outputs": [],
   "source": [
    "df_products.sample()"
   ]
  },
  {
   "cell_type": "code",
   "execution_count": null,
   "metadata": {},
   "outputs": [],
   "source": [
    "\n",
    "df_products.sample()"
   ]
  },
  {
   "cell_type": "code",
   "execution_count": null,
   "metadata": {},
   "outputs": [],
   "source": [
    "\n",
    "df_products.sample()"
   ]
  },
  {
   "cell_type": "markdown",
   "metadata": {},
   "source": [
    "## 5. クエリデータの読み込み\n",
    "\n",
    "クエリデータ（以下）をメモリに読み込め。\n",
    "\n",
    "```\n",
    "./esci-data/shopping_queries_dataset/shopping_queries_dataset_examples.parquet\n",
    "```\n",
    "\n",
    "（想定実行時間：1分以内）\n",
    "\n"
   ]
  },
  {
   "cell_type": "markdown",
   "metadata": {},
   "source": [
    "### 回答\n",
    "\n",
    "\n"
   ]
  },
  {
   "cell_type": "code",
   "execution_count": null,
   "metadata": {},
   "outputs": [],
   "source": [
    "print(\"Start loading examples...\")\n",
    "df_examples = pd.read_parquet(esci_path.joinpath(\"shopping_queries_dataset_examples.parquet\"))\n",
    "print(\"Loaded examples.\")"
   ]
  },
  {
   "cell_type": "markdown",
   "metadata": {},
   "source": [
    "## 6. クエリデータの確認\n",
    "\n",
    "クエリを1つランダムに取り出し表示せよ。\n",
    "何度か実行せよ。\n",
    "\n"
   ]
  },
  {
   "cell_type": "markdown",
   "metadata": {},
   "source": [
    "### 回答"
   ]
  },
  {
   "cell_type": "code",
   "execution_count": null,
   "metadata": {},
   "outputs": [],
   "source": [
    "df_examples.sample()"
   ]
  },
  {
   "cell_type": "code",
   "execution_count": null,
   "metadata": {},
   "outputs": [],
   "source": [
    "df_examples.sample()"
   ]
  },
  {
   "cell_type": "code",
   "execution_count": null,
   "metadata": {},
   "outputs": [],
   "source": [
    "df_examples.sample()"
   ]
  },
  {
   "cell_type": "markdown",
   "metadata": {},
   "source": [
    "## 7. フィルタリング\n",
    "\n",
    "題材の製品データ、クエリデータそれぞれ `product_locale` が `us` であるものを抽出せよ。\n",
    "\n",
    "これ以降、特に断りがなければ、以下の理由からこれらのサブセットを用いる。\n",
    "\n",
    "- 単語がスペース区切りで扱いやすいため。\n",
    "- `product_locale` 内では `product_id` がユニークで扱いやすいため。\n",
    "\n",
    "また、それぞれ**英語製品データ**、**英語クエリデータ**と呼ぶ。\n"
   ]
  },
  {
   "cell_type": "markdown",
   "metadata": {},
   "source": [
    "### 回答\n"
   ]
  },
  {
   "cell_type": "code",
   "execution_count": null,
   "metadata": {},
   "outputs": [],
   "source": [
    "df_products_us = df_products[df_products[\"product_locale\"] == \"us\"]\n",
    "df_examples_us = df_examples[df_examples[\"product_locale\"] == \"us\"]"
   ]
  },
  {
   "cell_type": "markdown",
   "metadata": {},
   "source": [
    "## 8. 結合\n",
    "\n",
    "英語製品データと英語クエリデータを、`product_id` をキーとして結合せよ。\n",
    "これを**英語結合データ**と呼ぶ。\n",
    "\n",
    "また、英語結合データのエントリを1つランダムに取り出し表示せよ。\n",
    "何度か実行せよ。\n"
   ]
  },
  {
   "cell_type": "markdown",
   "metadata": {},
   "source": [
    "### 回答\n"
   ]
  },
  {
   "cell_type": "code",
   "execution_count": null,
   "metadata": {},
   "outputs": [],
   "source": [
    "pd_examples_products_us = pd.merge(\n",
    "    df_examples_us,\n",
    "    df_products_us,\n",
    "    how='left',\n",
    "    left_on=['product_id'],\n",
    "    right_on=['product_id']\n",
    ")\n",
    "\n",
    "pd_examples_products_us.sample()\n"
   ]
  },
  {
   "cell_type": "code",
   "execution_count": null,
   "metadata": {},
   "outputs": [],
   "source": [
    "\n",
    "pd_examples_products_us.sample()"
   ]
  },
  {
   "cell_type": "code",
   "execution_count": null,
   "metadata": {},
   "outputs": [],
   "source": [
    "\n",
    "pd_examples_products_us.sample()"
   ]
  }
 ],
 "metadata": {
  "kernelspec": {
   "display_name": ".venv",
   "language": "python",
   "name": "python3"
  },
  "language_info": {
   "codemirror_mode": {
    "name": "ipython",
    "version": 3
   },
   "file_extension": ".py",
   "mimetype": "text/x-python",
   "name": "python",
   "nbconvert_exporter": "python",
   "pygments_lexer": "ipython3",
   "version": "3.11.4"
  },
  "orig_nbformat": 4
 },
 "nbformat": 4,
 "nbformat_minor": 2
}
